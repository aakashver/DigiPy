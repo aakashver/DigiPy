{
 "cells": [
  {
   "cell_type": "code",
   "execution_count": 3,
   "metadata": {},
   "outputs": [
    {
     "name": "stdout",
     "output_type": "stream",
     "text": [
      "you see a apple seller\n",
      "purchase 2kg of apples\n"
     ]
    }
   ],
   "source": [
    "print('you see a apple seller')\n",
    "q = input('do you like apples?')\n",
    "if q == 'yes' :\n",
    "    print('purchase 2kg of apples')\n",
    "if q == 'no' :\n",
    "    print('you don purchase apples')    "
   ]
  },
  {
   "cell_type": "code",
   "execution_count": 4,
   "metadata": {},
   "outputs": [
    {
     "name": "stdout",
     "output_type": "stream",
     "text": [
      "x is greater than 5\n",
      "this is the info we needed\n",
      "with this poewr,comes great responsibilty\n",
      "the end\n"
     ]
    }
   ],
   "source": [
    "x = 10\n",
    "if x > 5:\n",
    "    print('x is greater than 5')\n",
    "    print('this is the info we needed')\n",
    "    print('with this poewr,comes great responsibilty')\n",
    "print('the end')    "
   ]
  },
  {
   "cell_type": "code",
   "execution_count": 5,
   "metadata": {},
   "outputs": [
    {
     "name": "stdout",
     "output_type": "stream",
     "text": [
      "wear long pants.\n",
      " get some exercise outside\n"
     ]
    }
   ],
   "source": [
    "temp = float(input('what is the temperature?'))\n",
    "if temp > 70:\n",
    "    print('wear shorts.')\n",
    "else:\n",
    "    print('wear long pants.')\n",
    "print(' get some exercise outside')      \n"
   ]
  },
  {
   "cell_type": "code",
   "execution_count": 8,
   "metadata": {},
   "outputs": [
    {
     "name": "stdout",
     "output_type": "stream",
     "text": [
      "D\n"
     ]
    }
   ],
   "source": [
    "score = int(input('your score ->'))\n",
    "if score >=90:\n",
    "    letter = 'A'\n",
    "elif score >= 80:\n",
    "    letter = 'B'\n",
    "elif score >=70:\n",
    "    letter = 'C'\n",
    "elif score >= 60:\n",
    "    letter = 'D'\n",
    "else:\n",
    "    letter = 'F'\n",
    "print(letter)                  "
   ]
  },
  {
   "cell_type": "code",
   "execution_count": 9,
   "metadata": {},
   "outputs": [
    {
     "name": "stdout",
     "output_type": "stream",
     "text": [
      "42\n",
      "Alice\n"
     ]
    }
   ],
   "source": [
    "# one-liner alternative 1:\n",
    "if 42 in range(100):print(\"42\")\n",
    "\n",
    "# one-liner alternative 2:\n",
    "x = \"Alice\" if \"jon\" in \"my name is jonas\"else \"bob\";print(x)\n"
   ]
  },
  {
   "cell_type": "code",
   "execution_count": 10,
   "metadata": {},
   "outputs": [
    {
     "name": "stdout",
     "output_type": "stream",
     "text": [
      "brown\n"
     ]
    }
   ],
   "source": [
    "print('yellow') if \"y\" in \"orange\" else print('brown')"
   ]
  },
  {
   "cell_type": "code",
   "execution_count": null,
   "metadata": {},
   "outputs": [],
   "source": []
  }
 ],
 "metadata": {
  "interpreter": {
   "hash": "63f971ae2fb7e4a61505960e4c450eb27973739e8449118f4432a1b8e3b481b6"
  },
  "kernelspec": {
   "display_name": "Python 3.9.5 ('base')",
   "language": "python",
   "name": "python3"
  },
  "language_info": {
   "codemirror_mode": {
    "name": "ipython",
    "version": 3
   },
   "file_extension": ".py",
   "mimetype": "text/x-python",
   "name": "python",
   "nbconvert_exporter": "python",
   "pygments_lexer": "ipython3",
   "version": "3.9.5"
  },
  "orig_nbformat": 4
 },
 "nbformat": 4,
 "nbformat_minor": 2
}
