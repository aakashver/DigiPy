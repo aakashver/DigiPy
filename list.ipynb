{
 "cells": [
  {
   "cell_type": "markdown",
   "metadata": {},
   "source": [
    "# list -\n",
    "- list is mutable (item add , remove )\n",
    "- list is hetrogenous (mixed data can be stored)\n",
    "- list can have duplicate values\n",
    "- list is indexed (items have indexes and can be sliced)\n",
    "- list uses [] brackets with values inside it seperated with commas\n",
    "\n",
    "\n",
    "# what to learn\n",
    "- creating a list \n",
    "- indexing and slicing\n",
    "- traversal (looping)\n",
    "- function (11)\n",
    "- comprehension\n",
    "- lambda,map and filter"
   ]
  },
  {
   "cell_type": "code",
   "execution_count": 1,
   "metadata": {},
   "outputs": [],
   "source": [
    "# List of strings \n",
    "names = [\"Kaladin\",\"adolin\",'dalinar','wit','shallan','navani']\n",
    "# List of numbers\n",
    "factors = [1,2,3,5,15,25,100]\n",
    "# mixed data list\n",
    "info = ['Ravi',90,102,93,29,44,\"B\",False,5.786]\n",
    "# nested list\n",
    "fact = \"icecubes sits in its own blood\"\n",
    "words = fact.split()"
   ]
  },
  {
   "cell_type": "code",
   "execution_count": 2,
   "metadata": {},
   "outputs": [
    {
     "name": "stdout",
     "output_type": "stream",
     "text": [
      "[1, 1, 1, 1, 1, 1, 1, 1, 1, 1]\n"
     ]
    }
   ],
   "source": [
    "# quick list hack with some values\n",
    "x = [1] * 10\n",
    "print(x)"
   ]
  },
  {
   "cell_type": "code",
   "execution_count": 5,
   "metadata": {},
   "outputs": [
    {
     "name": "stdout",
     "output_type": "stream",
     "text": [
      "[10, 'something', 9]\n"
     ]
    }
   ],
   "source": [
    "# list from variables\n",
    "a = 10\n",
    "b = 'something'\n",
    "c = 9\n",
    "l = [a,b,c]\n",
    "print(l)"
   ]
  },
  {
   "cell_type": "code",
   "execution_count": 9,
   "metadata": {},
   "outputs": [],
   "source": [
    "kharche = []"
   ]
  },
  {
   "cell_type": "code",
   "execution_count": 16,
   "metadata": {},
   "outputs": [
    {
     "name": "stdout",
     "output_type": "stream",
     "text": [
      "[100, 100, 200, 300, 100, 200, 300, 100, 200, 300, 100, 200, 300, 100, 200, 300, 100]\n",
      "[100, 100, 200, 300, 100, 200, 300, 100, 200, 300, 100, 200, 300, 100, 200, 300, 100, 200]\n",
      "[100, 100, 200, 300, 100, 200, 300, 100, 200, 300, 100, 200, 300, 100, 200, 300, 100, 200, 300]\n"
     ]
    }
   ],
   "source": [
    "kharche.append(100)\n",
    "print(kharche)\n",
    "kharche.append(200)\n",
    "print(kharche)\n",
    "kharche.append(300)\n",
    "print(kharche)"
   ]
  },
  {
   "cell_type": "code",
   "execution_count": 17,
   "metadata": {},
   "outputs": [
    {
     "name": "stdout",
     "output_type": "stream",
     "text": [
      "['pizza', 'burger', 'chilli potato']\n"
     ]
    }
   ],
   "source": [
    "fav_foods = []\n",
    "for i in range(3):\n",
    "    food = input(\"enter name of your fav food->\")\n",
    "    fav_foods.append(food)\n",
    "print(fav_foods)    "
   ]
  },
  {
   "cell_type": "code",
   "execution_count": null,
   "metadata": {},
   "outputs": [],
   "source": [
    "nums = "
   ]
  }
 ],
 "metadata": {
  "interpreter": {
   "hash": "63f971ae2fb7e4a61505960e4c450eb27973739e8449118f4432a1b8e3b481b6"
  },
  "kernelspec": {
   "display_name": "Python 3.9.10 ('base')",
   "language": "python",
   "name": "python3"
  },
  "language_info": {
   "codemirror_mode": {
    "name": "ipython",
    "version": 3
   },
   "file_extension": ".py",
   "mimetype": "text/x-python",
   "name": "python",
   "nbconvert_exporter": "python",
   "pygments_lexer": "ipython3",
   "version": "3.9.10"
  },
  "orig_nbformat": 4
 },
 "nbformat": 4,
 "nbformat_minor": 2
}
